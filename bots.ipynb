{
 "cells": [
  {
   "cell_type": "markdown",
   "id": "50c2afac",
   "metadata": {},
   "source": [
    "# RPS Bots"
   ]
  },
  {
   "cell_type": "markdown",
   "id": "019cf77e",
   "metadata": {},
   "source": [
    "#### Game Setup"
   ]
  },
  {
   "cell_type": "code",
   "execution_count": 1,
   "id": "4021a10e",
   "metadata": {},
   "outputs": [],
   "source": [
    "moves = ['R', 'P', 'S']\n",
    "\n",
    "def winner(hero, villain):\n",
    "    \n",
    "    if hero == villain:\n",
    "        return 'D'\n",
    "    elif (hero == 'R' and villain == 'S') or \\\n",
    "         (hero == 'S' and villain == 'P') or \\\n",
    "         (hero == 'P' and villain == 'R'):\n",
    "        return 'W'\n",
    "    else:\n",
    "        return 'L'"
   ]
  },
  {
   "cell_type": "markdown",
   "id": "170f0598",
   "metadata": {},
   "source": [
    "Track Bot History"
   ]
  },
  {
   "cell_type": "code",
   "execution_count": 2,
   "id": "1d6a5970",
   "metadata": {},
   "outputs": [],
   "source": [
    "hero_hist1, villain_hist1 = [], []\n",
    "hero_hist2, villain_hist2 = [], []\n",
    "hero_hist3, villain_hist3 = [], []\n",
    "hero_hist4, villain_hist4 = [], []\n",
    "hero_hist5, villain_hist5 = [], []"
   ]
  },
  {
   "cell_type": "markdown",
   "id": "36c240ec",
   "metadata": {},
   "source": [
    "### Bot 1: Random"
   ]
  },
  {
   "cell_type": "markdown",
   "id": "16994002",
   "metadata": {},
   "source": [
    "Bot 1 plays randomly and is therefore unexploitable."
   ]
  },
  {
   "cell_type": "code",
   "execution_count": 3,
   "id": "5dff5c4f",
   "metadata": {},
   "outputs": [],
   "source": [
    "import random\n",
    "\n",
    "def bot1():\n",
    "    \n",
    "    rng = random.randint(1,3)\n",
    "    \n",
    "    if rng == 1:\n",
    "        return 'R'\n",
    "    elif rng == 2:\n",
    "        return 'P'\n",
    "    else:\n",
    "        return 'S'"
   ]
  },
  {
   "cell_type": "markdown",
   "id": "080168a6",
   "metadata": {},
   "source": [
    "### Bot 2: Frequency Analysis"
   ]
  },
  {
   "cell_type": "markdown",
   "id": "cbeccc3a",
   "metadata": {},
   "source": [
    "Bot 2 simply tracks what move their opponent plays most."
   ]
  },
  {
   "cell_type": "code",
   "execution_count": 4,
   "id": "b455d281",
   "metadata": {},
   "outputs": [],
   "source": [
    "from collections import Counter\n",
    "\n",
    "def bot2(history):\n",
    "    # If no history we play a random move\n",
    "    if not history:\n",
    "        return bot1()\n",
    "    \n",
    "    count = Counter(history)\n",
    "    most_common = count.most_common(1)[0][0]\n",
    "    \n",
    "    if most_common == 'R':\n",
    "        return 'P'\n",
    "    elif most_common == 'P':\n",
    "        return 'S'\n",
    "    else:\n",
    "        return 'R'"
   ]
  },
  {
   "cell_type": "markdown",
   "id": "eb127e39",
   "metadata": {},
   "source": [
    "### Bot 3: Markov Chain Model"
   ]
  },
  {
   "cell_type": "markdown",
   "id": "b222a151",
   "metadata": {},
   "source": [
    "Bot 3 predicts what their next move is based on their previous move."
   ]
  },
  {
   "cell_type": "code",
   "execution_count": 5,
   "id": "25296641",
   "metadata": {},
   "outputs": [],
   "source": [
    "from collections import defaultdict\n",
    "\n",
    "markov = defaultdict(list)\n",
    "\n",
    "def update_markov(history):\n",
    "    \n",
    "    if len(history) >= 2:\n",
    "        markov[history[-2]].append(history[-1])\n",
    "\n",
    "def counter(move):\n",
    "    return {'R' :'P', 'P' : 'S', 'S' : 'R'}[move]\n",
    "        \n",
    "def bot3():\n",
    "    \n",
    "    update_markov(villain_hist3)\n",
    "\n",
    "    # If no history we play a random move\n",
    "    if not villain_hist3:\n",
    "        return bot1()\n",
    "    \n",
    "    last_move = villain_hist3[-1]\n",
    "    next_moves = markov[last_move]\n",
    "    \n",
    "    if not next_moves:\n",
    "        return bot1()\n",
    "    \n",
    "    predicted = Counter(next_moves).most_common(1)[0][0]\n",
    "    return counter(predicted)\n",
    "    "
   ]
  },
  {
   "cell_type": "markdown",
   "id": "bfb384fd",
   "metadata": {},
   "source": [
    "### Bot 4: Trigram Model"
   ]
  },
  {
   "cell_type": "markdown",
   "id": "82e4e2f3",
   "metadata": {},
   "source": [
    "Bot 4 predicts what their next move is based on their last 3 moves"
   ]
  },
  {
   "cell_type": "code",
   "execution_count": 6,
   "id": "bdab812f",
   "metadata": {},
   "outputs": [],
   "source": [
    "ngrams = defaultdict(list)\n",
    "\n",
    "def update_ngrams(history):\n",
    "    \n",
    "    if len(history) >= 4:\n",
    "        key = tuple(history[-4:-1])  \n",
    "        next_move = history[-1]     \n",
    "        ngrams[key].append(next_move)\n",
    "        \n",
    "def bot4():\n",
    "    update_ngrams(villain_hist4)\n",
    "    \n",
    "    if len(villain_hist4) < 3:\n",
    "        return bot1()\n",
    "    \n",
    "    key = tuple(villain_hist4[-3:])\n",
    "    possible_next = ngrams.get(key, [])\n",
    "    \n",
    "    if not possible_next:\n",
    "        return bot1()\n",
    "    \n",
    "    predicted = Counter(possible_next).most_common(1)[0][0]\n",
    "    \n",
    "    return counter(predicted)    "
   ]
  },
  {
   "cell_type": "markdown",
   "id": "00022f66",
   "metadata": {},
   "source": [
    "### Bot 5: Conditional Reaction "
   ]
  },
  {
   "cell_type": "markdown",
   "id": "e722a661",
   "metadata": {},
   "source": [
    "Bot 5 tracks both its own moves and the opponent's then predicts their next move based on both of their previous two moves."
   ]
  },
  {
   "cell_type": "code",
   "execution_count": 7,
   "id": "478b5966",
   "metadata": {},
   "outputs": [],
   "source": [
    "reaction_map = defaultdict(list)\n",
    "\n",
    "def update_reactions():\n",
    "    if len(hero_hist5) >= 3 and len(villain_hist5) >= 3:\n",
    "        prev_round_1 = (hero_hist5[-3], villain_hist5[-3])\n",
    "        prev_round_2 = (hero_hist5[-2], villain_hist5[-2])\n",
    "        key = (prev_round_1, prev_round_2)\n",
    "        next_move = villain_hist5[-1]\n",
    "        reaction_map[key].append(next_move)\n",
    "        \n",
    "def bot5():\n",
    "    \n",
    "    update_reactions\n",
    "    \n",
    "    if len(hero_hist5) < 2 or len(villain_hist5) < 2:\n",
    "        move = bot1()\n",
    "        hero_hist5.append(move)\n",
    "        return move\n",
    "    \n",
    "    prev_round1 = (hero_hist5[-2], villain_hist5[-2])\n",
    "    prev_round2 = (hero_hist5[-1], villain_hist5[-1])\n",
    "    key = (prev_round1, prev_round2)\n",
    "    next_moves = reaction_map.get(key, [])\n",
    "    \n",
    "    if not next_moves:\n",
    "        move = bot1()\n",
    "        hero_hist5.append(move)\n",
    "        return move\n",
    "    \n",
    "    predicted = Counter(next_moves).most_common(1)[0][0]\n",
    "    move = counter(predicted)\n",
    "    hero_hist5.append(move)\n",
    "    return move"
   ]
  }
 ],
 "metadata": {
  "kernelspec": {
   "display_name": "Python 3",
   "language": "python",
   "name": "python3"
  },
  "language_info": {
   "codemirror_mode": {
    "name": "ipython",
    "version": 3
   },
   "file_extension": ".py",
   "mimetype": "text/x-python",
   "name": "python",
   "nbconvert_exporter": "python",
   "pygments_lexer": "ipython3",
   "version": "3.12.3"
  }
 },
 "nbformat": 4,
 "nbformat_minor": 5
}
